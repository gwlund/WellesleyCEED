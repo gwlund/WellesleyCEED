{
 "cells": [
  {
   "cell_type": "markdown",
   "id": "1079b55c",
   "metadata": {},
   "source": [
    "# Computational Grounded Theory Tutorial\n",
    "### Author: Campbell Lund\n",
    "### 6/6/2023\n",
    "Computational techniques can be implemented in societal research to help address problems of scalability when analyzing large corpuses. The following tutorial follows Laura K. Nelson's proposed framework for computational ground theory. It combines her code found \n",
    "at this [link](https://github.com/lknelson/computational-grounded-theory/tree/master) and written instructions from her paper: [Computational Grounded Theory: A Methodological Framework](https://journals.sagepub.com/doi/full/10.1177/0049124117729703). \n",
    "\n",
    "### Table of contents:\n",
    "1. [Difference of Proportions](#sec1)"
   ]
  },
  {
   "cell_type": "markdown",
   "id": "4c16701c",
   "metadata": {},
   "source": [
    "## Section 1: Difference of Proportions <a name=\"sec1\"></a>\n",
    "Difference of proportions analysis allows us to calculate the difference in proportional word frequencies between two texts. In this section, we'll read and clean our data, then perform the analysis. Our goal is to determine key themes or characteristics of a document based on its most frequent words in order to help us understand the content without a thorough reading."
   ]
  },
  {
   "cell_type": "code",
   "execution_count": null,
   "id": "2ed6d52c",
   "metadata": {},
   "outputs": [],
   "source": [
    "# import libraries\n",
    "import pandas\n",
    "from sklearn.feature_extraction.text import CountVectorizer"
   ]
  },
  {
   "cell_type": "code",
   "execution_count": null,
   "id": "92df018f",
   "metadata": {},
   "outputs": [],
   "source": [
    "# read data\n",
    "df = pandas.read_csv(\"your_file_here\")\n",
    "df"
   ]
  },
  {
   "cell_type": "code",
   "execution_count": null,
   "id": "33805e07",
   "metadata": {},
   "outputs": [],
   "source": [
    "# organize data based on topic\n",
    "topic1 = df[df['topicName'] == 'topic1']\n",
    "topic2 = df[df['topicName'] == 'topic2']\n",
    "..."
   ]
  },
  {
   "cell_type": "code",
   "execution_count": null,
   "id": "68bd0997",
   "metadata": {},
   "outputs": [],
   "source": [
    "# initialize countvectorizer function, removing stop words\n",
    "countvec = CountVectorizer(stop_words=\"english\")"
   ]
  },
  {
   "cell_type": "code",
   "execution_count": null,
   "id": "6ba98165",
   "metadata": {},
   "outputs": [],
   "source": [
    "# preform analysis\n",
    "# fit data\n",
    "topic1_topic2 = pandas.DataFrame(countvec.fit_transform([topic1, topic2]).toarray(), columns=countvec.get_feature_names())\n",
    "# get word count\n",
    "topic1_topic2['word_count'] = topic1_topic2.sum(axis=1)\n",
    "# scale values based on word count\n",
    "topic1_topic2 = topic1_topic2.iloc[:,0:].div(topic1_topic2.word_count, axis=0)\n",
    "# calculate the difference between values in row 0 and row 1\n",
    "topic1_topic2.loc[2] = topic1_topic2.loc[0] - topic1_topic2.loc[1]"
   ]
  },
  {
   "cell_type": "code",
   "execution_count": null,
   "id": "ba7fe2fc",
   "metadata": {},
   "outputs": [],
   "source": [
    "# the words with the highest difference of proportions are distinct to topic1\n",
    "# the words with the lowest (the highest negative) difference of proportions are distinct to topic2\n",
    "topic1_topic2.loc[2].sort_values(axis=0, ascending=False)"
   ]
  },
  {
   "cell_type": "code",
   "execution_count": null,
   "id": "cf0e50f6",
   "metadata": {},
   "outputs": [],
   "source": [
    "# repeat above 2 cells for each topic comparison"
   ]
  }
 ],
 "metadata": {
  "kernelspec": {
   "display_name": "Python 3 (ipykernel)",
   "language": "python",
   "name": "python3"
  },
  "language_info": {
   "codemirror_mode": {
    "name": "ipython",
    "version": 3
   },
   "file_extension": ".py",
   "mimetype": "text/x-python",
   "name": "python",
   "nbconvert_exporter": "python",
   "pygments_lexer": "ipython3",
   "version": "3.10.9"
  }
 },
 "nbformat": 4,
 "nbformat_minor": 5
}
